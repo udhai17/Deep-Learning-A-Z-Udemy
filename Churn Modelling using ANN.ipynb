{
 "cells": [
  {
   "cell_type": "code",
   "execution_count": 15,
   "metadata": {},
   "outputs": [],
   "source": [
    "\n",
    "from IPython.core.interactiveshell import InteractiveShell\n",
    "InteractiveShell.ast_node_interactivity = \"all\""
   ]
  },
  {
   "cell_type": "markdown",
   "metadata": {},
   "source": [
    "### Setting the working directory"
   ]
  },
  {
   "cell_type": "code",
   "execution_count": 10,
   "metadata": {},
   "outputs": [],
   "source": [
    "import os\n",
    "os.getcwd()\n",
    "os.chdir('D:\\\\Unlearn_Learn\\\\Deep_Learning_A_Z\\\\Volume 1 - Supervised Deep Learning\\\\\n",
    "Part 1 - Artificial Neural Networks (ANN)\\\\Section 4 - Building an ANN\\\\Artificial_Neural_Networks\\\\Artificial_Neural_Networks')"
   ]
  },
  {
   "cell_type": "code",
   "execution_count": 11,
   "metadata": {},
   "outputs": [
    {
     "data": {
      "text/plain": [
       "['ann.py',\n",
       " 'ann_homework_solution.py',\n",
       " 'categorical_data.py',\n",
       " 'Churn_Modelling.csv',\n",
       " 'classification_template.py',\n",
       " 'evaluating_improving_tuning.py',\n",
       " 'Installations_Instructions.pdf']"
      ]
     },
     "execution_count": 11,
     "metadata": {},
     "output_type": "execute_result"
    }
   ],
   "source": [
    "### Checking the content of the directory\n",
    "os.listdir()"
   ]
  },
  {
   "cell_type": "markdown",
   "metadata": {},
   "source": [
    "### Importing the libraries"
   ]
  },
  {
   "cell_type": "code",
   "execution_count": null,
   "metadata": {},
   "outputs": [],
   "source": [
    "%%time\n",
    "import pandas as pd \n",
    "import numpy as npp\n",
    "import matplotlib.pyplot as plt\n",
    "import seasborn as sns\n",
    "import tensorflow as tf\n",
    "%matplotlib inline"
   ]
  },
  {
   "cell_type": "markdown",
   "metadata": {},
   "source": [
    "### Getting the Data "
   ]
  },
  {
   "cell_type": "code",
   "execution_count": 17,
   "metadata": {},
   "outputs": [
    {
     "data": {
      "text/html": [
       "<div>\n",
       "<style scoped>\n",
       "    .dataframe tbody tr th:only-of-type {\n",
       "        vertical-align: middle;\n",
       "    }\n",
       "\n",
       "    .dataframe tbody tr th {\n",
       "        vertical-align: top;\n",
       "    }\n",
       "\n",
       "    .dataframe thead th {\n",
       "        text-align: right;\n",
       "    }\n",
       "</style>\n",
       "<table border=\"1\" class=\"dataframe\">\n",
       "  <thead>\n",
       "    <tr style=\"text-align: right;\">\n",
       "      <th></th>\n",
       "      <th>RowNumber</th>\n",
       "      <th>CustomerId</th>\n",
       "      <th>Surname</th>\n",
       "      <th>CreditScore</th>\n",
       "      <th>Geography</th>\n",
       "      <th>Gender</th>\n",
       "      <th>Age</th>\n",
       "      <th>Tenure</th>\n",
       "      <th>Balance</th>\n",
       "      <th>NumOfProducts</th>\n",
       "      <th>HasCrCard</th>\n",
       "      <th>IsActiveMember</th>\n",
       "      <th>EstimatedSalary</th>\n",
       "      <th>Exited</th>\n",
       "    </tr>\n",
       "  </thead>\n",
       "  <tbody>\n",
       "    <tr>\n",
       "      <th>0</th>\n",
       "      <td>1</td>\n",
       "      <td>15634602</td>\n",
       "      <td>Hargrave</td>\n",
       "      <td>619</td>\n",
       "      <td>France</td>\n",
       "      <td>Female</td>\n",
       "      <td>42</td>\n",
       "      <td>2</td>\n",
       "      <td>0.00</td>\n",
       "      <td>1</td>\n",
       "      <td>1</td>\n",
       "      <td>1</td>\n",
       "      <td>101348.88</td>\n",
       "      <td>1</td>\n",
       "    </tr>\n",
       "    <tr>\n",
       "      <th>1</th>\n",
       "      <td>2</td>\n",
       "      <td>15647311</td>\n",
       "      <td>Hill</td>\n",
       "      <td>608</td>\n",
       "      <td>Spain</td>\n",
       "      <td>Female</td>\n",
       "      <td>41</td>\n",
       "      <td>1</td>\n",
       "      <td>83807.86</td>\n",
       "      <td>1</td>\n",
       "      <td>0</td>\n",
       "      <td>1</td>\n",
       "      <td>112542.58</td>\n",
       "      <td>0</td>\n",
       "    </tr>\n",
       "    <tr>\n",
       "      <th>2</th>\n",
       "      <td>3</td>\n",
       "      <td>15619304</td>\n",
       "      <td>Onio</td>\n",
       "      <td>502</td>\n",
       "      <td>France</td>\n",
       "      <td>Female</td>\n",
       "      <td>42</td>\n",
       "      <td>8</td>\n",
       "      <td>159660.80</td>\n",
       "      <td>3</td>\n",
       "      <td>1</td>\n",
       "      <td>0</td>\n",
       "      <td>113931.57</td>\n",
       "      <td>1</td>\n",
       "    </tr>\n",
       "    <tr>\n",
       "      <th>3</th>\n",
       "      <td>4</td>\n",
       "      <td>15701354</td>\n",
       "      <td>Boni</td>\n",
       "      <td>699</td>\n",
       "      <td>France</td>\n",
       "      <td>Female</td>\n",
       "      <td>39</td>\n",
       "      <td>1</td>\n",
       "      <td>0.00</td>\n",
       "      <td>2</td>\n",
       "      <td>0</td>\n",
       "      <td>0</td>\n",
       "      <td>93826.63</td>\n",
       "      <td>0</td>\n",
       "    </tr>\n",
       "    <tr>\n",
       "      <th>4</th>\n",
       "      <td>5</td>\n",
       "      <td>15737888</td>\n",
       "      <td>Mitchell</td>\n",
       "      <td>850</td>\n",
       "      <td>Spain</td>\n",
       "      <td>Female</td>\n",
       "      <td>43</td>\n",
       "      <td>2</td>\n",
       "      <td>125510.82</td>\n",
       "      <td>1</td>\n",
       "      <td>1</td>\n",
       "      <td>1</td>\n",
       "      <td>79084.10</td>\n",
       "      <td>0</td>\n",
       "    </tr>\n",
       "  </tbody>\n",
       "</table>\n",
       "</div>"
      ],
      "text/plain": [
       "   RowNumber  CustomerId   Surname  CreditScore Geography  Gender  Age  \\\n",
       "0          1    15634602  Hargrave          619    France  Female   42   \n",
       "1          2    15647311      Hill          608     Spain  Female   41   \n",
       "2          3    15619304      Onio          502    France  Female   42   \n",
       "3          4    15701354      Boni          699    France  Female   39   \n",
       "4          5    15737888  Mitchell          850     Spain  Female   43   \n",
       "\n",
       "   Tenure    Balance  NumOfProducts  HasCrCard  IsActiveMember  \\\n",
       "0       2       0.00              1          1               1   \n",
       "1       1   83807.86              1          0               1   \n",
       "2       8  159660.80              3          1               0   \n",
       "3       1       0.00              2          0               0   \n",
       "4       2  125510.82              1          1               1   \n",
       "\n",
       "   EstimatedSalary  Exited  \n",
       "0        101348.88       1  \n",
       "1        112542.58       0  \n",
       "2        113931.57       1  \n",
       "3         93826.63       0  \n",
       "4         79084.10       0  "
      ]
     },
     "execution_count": 17,
     "metadata": {},
     "output_type": "execute_result"
    }
   ],
   "source": [
    "data = pd.read_csv('Churn_Modelling.csv')\n",
    "data.head()"
   ]
  },
  {
   "cell_type": "code",
   "execution_count": 20,
   "metadata": {},
   "outputs": [
    {
     "name": "stdout",
     "output_type": "stream",
     "text": [
      "<class 'pandas.core.frame.DataFrame'>\n",
      "RangeIndex: 10000 entries, 0 to 9999\n",
      "Data columns (total 14 columns):\n",
      "RowNumber          10000 non-null int64\n",
      "CustomerId         10000 non-null int64\n",
      "Surname            10000 non-null object\n",
      "CreditScore        10000 non-null int64\n",
      "Geography          10000 non-null object\n",
      "Gender             10000 non-null object\n",
      "Age                10000 non-null int64\n",
      "Tenure             10000 non-null int64\n",
      "Balance            10000 non-null float64\n",
      "NumOfProducts      10000 non-null int64\n",
      "HasCrCard          10000 non-null int64\n",
      "IsActiveMember     10000 non-null int64\n",
      "EstimatedSalary    10000 non-null float64\n",
      "Exited             10000 non-null int64\n",
      "dtypes: float64(2), int64(9), object(3)\n",
      "memory usage: 1.1+ MB\n"
     ]
    }
   ],
   "source": [
    "data.info()"
   ]
  },
  {
   "cell_type": "code",
   "execution_count": 24,
   "metadata": {},
   "outputs": [
    {
     "data": {
      "text/plain": [
       "Index(['RowNumber', 'CustomerId', 'Surname', 'CreditScore', 'Geography',\n",
       "       'Gender', 'Age', 'Tenure', 'Balance', 'NumOfProducts', 'HasCrCard',\n",
       "       'IsActiveMember', 'EstimatedSalary', 'Exited'],\n",
       "      dtype='object')"
      ]
     },
     "execution_count": 24,
     "metadata": {},
     "output_type": "execute_result"
    },
    {
     "name": "stdout",
     "output_type": "stream",
     "text": [
      "14\n"
     ]
    }
   ],
   "source": [
    "data.columns\n",
    "print(len(data.columns))"
   ]
  },
  {
   "cell_type": "markdown",
   "metadata": {},
   "source": [
    "### Converting the categorical variables\n"
   ]
  },
  {
   "cell_type": "code",
   "execution_count": 46,
   "metadata": {},
   "outputs": [
    {
     "data": {
      "text/html": [
       "<div>\n",
       "<style scoped>\n",
       "    .dataframe tbody tr th:only-of-type {\n",
       "        vertical-align: middle;\n",
       "    }\n",
       "\n",
       "    .dataframe tbody tr th {\n",
       "        vertical-align: top;\n",
       "    }\n",
       "\n",
       "    .dataframe thead th {\n",
       "        text-align: right;\n",
       "    }\n",
       "</style>\n",
       "<table border=\"1\" class=\"dataframe\">\n",
       "  <thead>\n",
       "    <tr style=\"text-align: right;\">\n",
       "      <th></th>\n",
       "      <th>RowNumber</th>\n",
       "      <th>CustomerId</th>\n",
       "      <th>Surname</th>\n",
       "      <th>CreditScore</th>\n",
       "      <th>Age</th>\n",
       "      <th>Tenure</th>\n",
       "      <th>Balance</th>\n",
       "      <th>NumOfProducts</th>\n",
       "      <th>HasCrCard</th>\n",
       "      <th>IsActiveMember</th>\n",
       "      <th>EstimatedSalary</th>\n",
       "      <th>Exited</th>\n",
       "      <th>dumm_Germany</th>\n",
       "      <th>dumm_Spain</th>\n",
       "      <th>dumm_Male</th>\n",
       "    </tr>\n",
       "  </thead>\n",
       "  <tbody>\n",
       "    <tr>\n",
       "      <th>0</th>\n",
       "      <td>1</td>\n",
       "      <td>15634602</td>\n",
       "      <td>Hargrave</td>\n",
       "      <td>619</td>\n",
       "      <td>42</td>\n",
       "      <td>2</td>\n",
       "      <td>0.00</td>\n",
       "      <td>1</td>\n",
       "      <td>1</td>\n",
       "      <td>1</td>\n",
       "      <td>101348.88</td>\n",
       "      <td>1</td>\n",
       "      <td>0</td>\n",
       "      <td>0</td>\n",
       "      <td>0</td>\n",
       "    </tr>\n",
       "    <tr>\n",
       "      <th>1</th>\n",
       "      <td>2</td>\n",
       "      <td>15647311</td>\n",
       "      <td>Hill</td>\n",
       "      <td>608</td>\n",
       "      <td>41</td>\n",
       "      <td>1</td>\n",
       "      <td>83807.86</td>\n",
       "      <td>1</td>\n",
       "      <td>0</td>\n",
       "      <td>1</td>\n",
       "      <td>112542.58</td>\n",
       "      <td>0</td>\n",
       "      <td>0</td>\n",
       "      <td>1</td>\n",
       "      <td>0</td>\n",
       "    </tr>\n",
       "    <tr>\n",
       "      <th>2</th>\n",
       "      <td>3</td>\n",
       "      <td>15619304</td>\n",
       "      <td>Onio</td>\n",
       "      <td>502</td>\n",
       "      <td>42</td>\n",
       "      <td>8</td>\n",
       "      <td>159660.80</td>\n",
       "      <td>3</td>\n",
       "      <td>1</td>\n",
       "      <td>0</td>\n",
       "      <td>113931.57</td>\n",
       "      <td>1</td>\n",
       "      <td>0</td>\n",
       "      <td>0</td>\n",
       "      <td>0</td>\n",
       "    </tr>\n",
       "    <tr>\n",
       "      <th>3</th>\n",
       "      <td>4</td>\n",
       "      <td>15701354</td>\n",
       "      <td>Boni</td>\n",
       "      <td>699</td>\n",
       "      <td>39</td>\n",
       "      <td>1</td>\n",
       "      <td>0.00</td>\n",
       "      <td>2</td>\n",
       "      <td>0</td>\n",
       "      <td>0</td>\n",
       "      <td>93826.63</td>\n",
       "      <td>0</td>\n",
       "      <td>0</td>\n",
       "      <td>0</td>\n",
       "      <td>0</td>\n",
       "    </tr>\n",
       "    <tr>\n",
       "      <th>4</th>\n",
       "      <td>5</td>\n",
       "      <td>15737888</td>\n",
       "      <td>Mitchell</td>\n",
       "      <td>850</td>\n",
       "      <td>43</td>\n",
       "      <td>2</td>\n",
       "      <td>125510.82</td>\n",
       "      <td>1</td>\n",
       "      <td>1</td>\n",
       "      <td>1</td>\n",
       "      <td>79084.10</td>\n",
       "      <td>0</td>\n",
       "      <td>0</td>\n",
       "      <td>1</td>\n",
       "      <td>0</td>\n",
       "    </tr>\n",
       "  </tbody>\n",
       "</table>\n",
       "</div>"
      ],
      "text/plain": [
       "   RowNumber  CustomerId   Surname  CreditScore  Age  Tenure    Balance  \\\n",
       "0          1    15634602  Hargrave          619   42       2       0.00   \n",
       "1          2    15647311      Hill          608   41       1   83807.86   \n",
       "2          3    15619304      Onio          502   42       8  159660.80   \n",
       "3          4    15701354      Boni          699   39       1       0.00   \n",
       "4          5    15737888  Mitchell          850   43       2  125510.82   \n",
       "\n",
       "   NumOfProducts  HasCrCard  IsActiveMember  EstimatedSalary  Exited  \\\n",
       "0              1          1               1        101348.88       1   \n",
       "1              1          0               1        112542.58       0   \n",
       "2              3          1               0        113931.57       1   \n",
       "3              2          0               0         93826.63       0   \n",
       "4              1          1               1         79084.10       0   \n",
       "\n",
       "   dumm_Germany  dumm_Spain  dumm_Male  \n",
       "0             0           0          0  \n",
       "1             0           1          0  \n",
       "2             0           0          0  \n",
       "3             0           0          0  \n",
       "4             0           1          0  "
      ]
     },
     "execution_count": 46,
     "metadata": {},
     "output_type": "execute_result"
    }
   ],
   "source": [
    "data_dumm1 = pd.get_dummies(data['Geography'],drop_first=True,prefix='dumm')\n",
    "data_dumm2 = pd.get_dummies(data.Gender,drop_first=True,prefix = 'dumm')\n",
    "data_no_cat_var = data.drop(['Geography','Gender'],axis=1)\n",
    "\n",
    "data_fin = pd.concat([data_no_cat_var,data_dumm1,data_dumm2],axis=1)\n",
    "data_fin.head()"
   ]
  },
  {
   "cell_type": "code",
   "execution_count": 61,
   "metadata": {},
   "outputs": [],
   "source": [
    "### Splitting the data into Target and Predictors\n",
    "X = data_fin.drop(['RowNumber', 'CustomerId', 'Surname','Exited'],axis=1).values\n",
    "y = data_fin[['Exited']].values"
   ]
  },
  {
   "cell_type": "code",
   "execution_count": 62,
   "metadata": {},
   "outputs": [],
   "source": [
    "### Splitting into training and Test Data\n",
    "from sklearn.model_selection import train_test_split\n",
    "X_train, X_test, y_train, y_test = train_test_split(X, y, test_size=0.2, random_state=0)"
   ]
  },
  {
   "cell_type": "code",
   "execution_count": 65,
   "metadata": {},
   "outputs": [],
   "source": [
    "### Standardisation\n",
    "from sklearn.preprocessing import StandardScaler\n",
    "sc = StandardScaler()\n",
    "X_train = sc.fit_transform(X_train)\n",
    "X_test = sc.transform(X_test)"
   ]
  },
  {
   "cell_type": "markdown",
   "metadata": {},
   "source": [
    "### Building the ANN"
   ]
  },
  {
   "cell_type": "code",
   "execution_count": 67,
   "metadata": {},
   "outputs": [
    {
     "name": "stderr",
     "output_type": "stream",
     "text": [
      "Using TensorFlow backend.\n"
     ]
    }
   ],
   "source": [
    "### Importing the libraries\n",
    "import keras "
   ]
  },
  {
   "cell_type": "code",
   "execution_count": 68,
   "metadata": {},
   "outputs": [],
   "source": [
    "### Getting the modules from the Keras\n",
    "### Sequential Module- to initialize the neural network\n",
    "### Dense module - to build the layers of the ANN\n",
    "from keras.models import Sequential\n",
    "from keras.layers import Dense"
   ]
  },
  {
   "cell_type": "code",
   "execution_count": 69,
   "metadata": {},
   "outputs": [],
   "source": [
    "### Initializing the ANN.. Defining the sequence of layers\n",
    "classifier = Sequential()"
   ]
  },
  {
   "cell_type": "code",
   "execution_count": 70,
   "metadata": {},
   "outputs": [],
   "source": [
    "### Adding input layer and the first hidden layer\n",
    "### Thumb rule to find the number of nodes in the hidden layer = Average(no.of input nodes, output node)\n",
    "classifier.add(Dense(units=6,kernel_initializer='uniform',activation='relu',input_dim=11)) ### Rectifier func - relu"
   ]
  },
  {
   "cell_type": "code",
   "execution_count": 71,
   "metadata": {},
   "outputs": [],
   "source": [
    "### Adding the second hidden layer\n",
    "classifier.add(Dense(units=6,kernel_initializer='uniform',activation='relu')) "
   ]
  },
  {
   "cell_type": "code",
   "execution_count": 72,
   "metadata": {},
   "outputs": [],
   "source": [
    "### Adding the output layer\n",
    "classifier.add(Dense(units=1,kernel_initializer='uniform',activation='sigmoid')) ### Sigmoid Func - Sigmoid for binary output\n",
    "\n",
    "### If the output has more than two levesl then we will be using activation ='softmax'\n",
    "\n"
   ]
  },
  {
   "cell_type": "code",
   "execution_count": 73,
   "metadata": {},
   "outputs": [],
   "source": [
    "### Compiling the ANN\n",
    "classifier.compile(optimizer='adam', loss='binary_crossentropy',metrics=['accuracy']) \n",
    "\n",
    "### optimizer algo used to find the optimal set of weights for the neural network--stocashtic gradient decent\n",
    "### Loss function here will be LOGARITHMIC LOSS.. If the output is binary in nature then LOGARITHMIC LOSS is binary_crossentropy \n",
    "### If the output  is of more than 2 levels then LOGARITMIC LOSS is categorical_crossentropy"
   ]
  },
  {
   "cell_type": "code",
   "execution_count": 74,
   "metadata": {},
   "outputs": [
    {
     "name": "stdout",
     "output_type": "stream",
     "text": [
      "Epoch 1/100\n",
      "8000/8000 [==============================] - 3s - loss: 0.4847 - acc: 0.7959     \n",
      "Epoch 2/100\n",
      "8000/8000 [==============================] - 1s - loss: 0.4214 - acc: 0.7960     \n",
      "Epoch 3/100\n",
      "8000/8000 [==============================] - 1s - loss: 0.4100 - acc: 0.8052     - ETA: 1s - los\n",
      "Epoch 4/100\n",
      "8000/8000 [==============================] - 1s - loss: 0.4012 - acc: 0.8280     \n",
      "Epoch 5/100\n",
      "8000/8000 [==============================] - 1s - loss: 0.3916 - acc: 0.8305     \n",
      "Epoch 6/100\n",
      "8000/8000 [==============================] - 1s - loss: 0.3853 - acc: 0.8309     \n",
      "Epoch 7/100\n",
      "8000/8000 [==============================] - 1s - loss: 0.3796 - acc: 0.8412     \n",
      "Epoch 8/100\n",
      "8000/8000 [==============================] - 1s - loss: 0.3753 - acc: 0.8442     \n",
      "Epoch 9/100\n",
      "8000/8000 [==============================] - 1s - loss: 0.3711 - acc: 0.8482     \n",
      "Epoch 10/100\n",
      "8000/8000 [==============================] - 1s - loss: 0.3692 - acc: 0.8481     \n",
      "Epoch 11/100\n",
      "8000/8000 [==============================] - 1s - loss: 0.3676 - acc: 0.8504     \n",
      "Epoch 12/100\n",
      "8000/8000 [==============================] - 1s - loss: 0.3658 - acc: 0.8472     \n",
      "Epoch 13/100\n",
      "8000/8000 [==============================] - 1s - loss: 0.3642 - acc: 0.8496     \n",
      "Epoch 14/100\n",
      "8000/8000 [==============================] - 1s - loss: 0.3621 - acc: 0.8529     \n",
      "Epoch 15/100\n",
      "8000/8000 [==============================] - 1s - loss: 0.3608 - acc: 0.8529     \n",
      "Epoch 16/100\n",
      "8000/8000 [==============================] - 1s - loss: 0.3593 - acc: 0.8570     \n",
      "Epoch 17/100\n",
      "8000/8000 [==============================] - 1s - loss: 0.3577 - acc: 0.8566     \n",
      "Epoch 18/100\n",
      "8000/8000 [==============================] - 1s - loss: 0.3565 - acc: 0.8570     \n",
      "Epoch 19/100\n",
      "8000/8000 [==============================] - 2s - loss: 0.3552 - acc: 0.8581     \n",
      "Epoch 20/100\n",
      "8000/8000 [==============================] - 1s - loss: 0.3537 - acc: 0.8579     \n",
      "Epoch 21/100\n",
      "8000/8000 [==============================] - 1s - loss: 0.3534 - acc: 0.8567     \n",
      "Epoch 22/100\n",
      "8000/8000 [==============================] - 1s - loss: 0.3519 - acc: 0.8585     \n",
      "Epoch 23/100\n",
      "8000/8000 [==============================] - 1s - loss: 0.3521 - acc: 0.8562     \n",
      "Epoch 24/100\n",
      "8000/8000 [==============================] - 1s - loss: 0.3513 - acc: 0.8575     \n",
      "Epoch 25/100\n",
      "8000/8000 [==============================] - 1s - loss: 0.3502 - acc: 0.8595     \n",
      "Epoch 26/100\n",
      "8000/8000 [==============================] - 1s - loss: 0.3501 - acc: 0.8599     \n",
      "Epoch 27/100\n",
      "8000/8000 [==============================] - 1s - loss: 0.3501 - acc: 0.8564     - ETA: 0s - loss: 0.3539 - acc: \n",
      "Epoch 28/100\n",
      "8000/8000 [==============================] - 1s - loss: 0.3493 - acc: 0.8587     \n",
      "Epoch 29/100\n",
      "8000/8000 [==============================] - 1s - loss: 0.3487 - acc: 0.8585     \n",
      "Epoch 30/100\n",
      "8000/8000 [==============================] - 1s - loss: 0.3482 - acc: 0.8580     \n",
      "Epoch 31/100\n",
      "8000/8000 [==============================] - 1s - loss: 0.3485 - acc: 0.8596     \n",
      "Epoch 32/100\n",
      "8000/8000 [==============================] - 1s - loss: 0.3484 - acc: 0.8586     \n",
      "Epoch 33/100\n",
      "8000/8000 [==============================] - 1s - loss: 0.3473 - acc: 0.8614     \n",
      "Epoch 34/100\n",
      "8000/8000 [==============================] - 1s - loss: 0.3477 - acc: 0.8592     \n",
      "Epoch 35/100\n",
      "8000/8000 [==============================] - 1s - loss: 0.3482 - acc: 0.8565     - ETA: 0s - loss: 0.3432 - acc: 0.\n",
      "Epoch 36/100\n",
      "8000/8000 [==============================] - 1s - loss: 0.3473 - acc: 0.8590     \n",
      "Epoch 37/100\n",
      "8000/8000 [==============================] - 1s - loss: 0.3480 - acc: 0.8590     \n",
      "Epoch 38/100\n",
      "8000/8000 [==============================] - 1s - loss: 0.3459 - acc: 0.8576     \n",
      "Epoch 39/100\n",
      "8000/8000 [==============================] - 1s - loss: 0.3459 - acc: 0.8586     \n",
      "Epoch 40/100\n",
      "8000/8000 [==============================] - 1s - loss: 0.3459 - acc: 0.8610     \n",
      "Epoch 41/100\n",
      "8000/8000 [==============================] - 1s - loss: 0.3451 - acc: 0.8594     \n",
      "Epoch 42/100\n",
      "8000/8000 [==============================] - 1s - loss: 0.3450 - acc: 0.8586     \n",
      "Epoch 43/100\n",
      "8000/8000 [==============================] - 1s - loss: 0.3451 - acc: 0.8584     \n",
      "Epoch 44/100\n",
      "8000/8000 [==============================] - 1s - loss: 0.3441 - acc: 0.8586     \n",
      "Epoch 45/100\n",
      "8000/8000 [==============================] - 1s - loss: 0.3436 - acc: 0.8589     \n",
      "Epoch 46/100\n",
      "8000/8000 [==============================] - 1s - loss: 0.3438 - acc: 0.8606     \n",
      "Epoch 47/100\n",
      "8000/8000 [==============================] - 1s - loss: 0.3438 - acc: 0.8604     \n",
      "Epoch 48/100\n",
      "8000/8000 [==============================] - 1s - loss: 0.3429 - acc: 0.8605     \n",
      "Epoch 49/100\n",
      "8000/8000 [==============================] - 1s - loss: 0.3423 - acc: 0.8585     \n",
      "Epoch 50/100\n",
      "8000/8000 [==============================] - 1s - loss: 0.3431 - acc: 0.8600     \n",
      "Epoch 51/100\n",
      "8000/8000 [==============================] - 1s - loss: 0.3419 - acc: 0.8599     \n",
      "Epoch 52/100\n",
      "8000/8000 [==============================] - 1s - loss: 0.3422 - acc: 0.8609     \n",
      "Epoch 53/100\n",
      "8000/8000 [==============================] - 1s - loss: 0.3414 - acc: 0.8606     \n",
      "Epoch 54/100\n",
      "8000/8000 [==============================] - 1s - loss: 0.3414 - acc: 0.8580     \n",
      "Epoch 55/100\n",
      "8000/8000 [==============================] - 1s - loss: 0.3413 - acc: 0.8574     \n",
      "Epoch 56/100\n",
      "8000/8000 [==============================] - 1s - loss: 0.3406 - acc: 0.8597     \n",
      "Epoch 57/100\n",
      "8000/8000 [==============================] - 1s - loss: 0.3409 - acc: 0.8614     \n",
      "Epoch 58/100\n",
      "8000/8000 [==============================] - 1s - loss: 0.3406 - acc: 0.8612     - ETA: 1s - lo\n",
      "Epoch 59/100\n",
      "8000/8000 [==============================] - 1s - loss: 0.3409 - acc: 0.8592     \n",
      "Epoch 60/100\n",
      "8000/8000 [==============================] - 1s - loss: 0.3407 - acc: 0.8599     \n",
      "Epoch 61/100\n",
      "8000/8000 [==============================] - 1s - loss: 0.3406 - acc: 0.8596     \n",
      "Epoch 62/100\n",
      "8000/8000 [==============================] - 1s - loss: 0.3400 - acc: 0.8590     \n",
      "Epoch 63/100\n",
      "8000/8000 [==============================] - 1s - loss: 0.3391 - acc: 0.8592     \n",
      "Epoch 64/100\n",
      "8000/8000 [==============================] - 1s - loss: 0.3396 - acc: 0.8610     - ETA: 1s - los\n",
      "Epoch 65/100\n",
      "8000/8000 [==============================] - 1s - loss: 0.3394 - acc: 0.8614     \n",
      "Epoch 66/100\n",
      "8000/8000 [==============================] - 1s - loss: 0.3393 - acc: 0.8616     \n",
      "Epoch 67/100\n",
      "8000/8000 [==============================] - 1s - loss: 0.3387 - acc: 0.8619     \n",
      "Epoch 68/100\n",
      "8000/8000 [==============================] - 1s - loss: 0.3389 - acc: 0.8612     \n",
      "Epoch 69/100\n",
      "8000/8000 [==============================] - 1s - loss: 0.3390 - acc: 0.8629     \n",
      "Epoch 70/100\n",
      "8000/8000 [==============================] - 1s - loss: 0.3392 - acc: 0.8590     \n",
      "Epoch 71/100\n",
      "8000/8000 [==============================] - 1s - loss: 0.3387 - acc: 0.8600     \n",
      "Epoch 72/100\n",
      "8000/8000 [==============================] - 1s - loss: 0.3383 - acc: 0.8622     \n",
      "Epoch 73/100\n",
      "8000/8000 [==============================] - 1s - loss: 0.3383 - acc: 0.8610     \n",
      "Epoch 74/100\n",
      "8000/8000 [==============================] - 1s - loss: 0.3378 - acc: 0.8602     \n",
      "Epoch 75/100\n",
      "8000/8000 [==============================] - 1s - loss: 0.3379 - acc: 0.8609     \n",
      "Epoch 76/100\n",
      "8000/8000 [==============================] - 1s - loss: 0.3385 - acc: 0.8617     \n",
      "Epoch 77/100\n",
      "8000/8000 [==============================] - 1s - loss: 0.3390 - acc: 0.8610     \n",
      "Epoch 78/100\n",
      "8000/8000 [==============================] - 1s - loss: 0.3392 - acc: 0.8612     \n",
      "Epoch 79/100\n",
      "8000/8000 [==============================] - 1s - loss: 0.3384 - acc: 0.8615     \n",
      "Epoch 80/100\n",
      "8000/8000 [==============================] - 1s - loss: 0.3373 - acc: 0.8619     \n",
      "Epoch 81/100\n",
      "8000/8000 [==============================] - 1s - loss: 0.3379 - acc: 0.8601     \n",
      "Epoch 82/100\n",
      "8000/8000 [==============================] - 1s - loss: 0.3385 - acc: 0.8601     \n",
      "Epoch 83/100\n",
      "8000/8000 [==============================] - 1s - loss: 0.3388 - acc: 0.8597     \n",
      "Epoch 84/100\n",
      "8000/8000 [==============================] - 1s - loss: 0.3373 - acc: 0.8611     \n",
      "Epoch 85/100\n",
      "8000/8000 [==============================] - 1s - loss: 0.3378 - acc: 0.8612     \n",
      "Epoch 86/100\n"
     ]
    },
    {
     "name": "stdout",
     "output_type": "stream",
     "text": [
      "8000/8000 [==============================] - 1s - loss: 0.3380 - acc: 0.8631     \n",
      "Epoch 87/100\n",
      "8000/8000 [==============================] - 1s - loss: 0.3365 - acc: 0.8624     \n",
      "Epoch 88/100\n",
      "8000/8000 [==============================] - 1s - loss: 0.3372 - acc: 0.8617     \n",
      "Epoch 89/100\n",
      "8000/8000 [==============================] - 1s - loss: 0.3382 - acc: 0.8605     \n",
      "Epoch 90/100\n",
      "8000/8000 [==============================] - 1s - loss: 0.3376 - acc: 0.8611     \n",
      "Epoch 91/100\n",
      "8000/8000 [==============================] - 1s - loss: 0.3372 - acc: 0.8621     - ETA: 0s - loss: 0.3394 - acc\n",
      "Epoch 92/100\n",
      "8000/8000 [==============================] - 1s - loss: 0.3377 - acc: 0.8619     \n",
      "Epoch 93/100\n",
      "8000/8000 [==============================] - 1s - loss: 0.3368 - acc: 0.8630     \n",
      "Epoch 94/100\n",
      "8000/8000 [==============================] - 1s - loss: 0.3359 - acc: 0.8625     \n",
      "Epoch 95/100\n",
      "8000/8000 [==============================] - 1s - loss: 0.3384 - acc: 0.8616     \n",
      "Epoch 96/100\n",
      "8000/8000 [==============================] - 1s - loss: 0.3370 - acc: 0.8619     \n",
      "Epoch 97/100\n",
      "8000/8000 [==============================] - 1s - loss: 0.3376 - acc: 0.8627     \n",
      "Epoch 98/100\n",
      "8000/8000 [==============================] - 1s - loss: 0.3372 - acc: 0.8622     \n",
      "Epoch 99/100\n",
      "8000/8000 [==============================] - 1s - loss: 0.3372 - acc: 0.8621     \n",
      "Epoch 100/100\n",
      "8000/8000 [==============================] - 1s - loss: 0.3370 - acc: 0.8607     \n"
     ]
    },
    {
     "data": {
      "text/plain": [
       "<keras.callbacks.History at 0x23b8ac9f898>"
      ]
     },
     "execution_count": 74,
     "metadata": {},
     "output_type": "execute_result"
    }
   ],
   "source": [
    "### Fitting the ANN to the Training set\n",
    "classifier.fit(X_train,y_train,batch_size=10, epochs=100)\n",
    "### Batch size is the number of the observations after which weights gets updated\n",
    "### Epoch is the number of time the entire data set set is passed through the ANN"
   ]
  },
  {
   "cell_type": "code",
   "execution_count": 78,
   "metadata": {},
   "outputs": [
    {
     "data": {
      "text/plain": [
       "array([[False],\n",
       "       [False],\n",
       "       [False],\n",
       "       ..., \n",
       "       [False],\n",
       "       [False],\n",
       "       [False]], dtype=bool)"
      ]
     },
     "execution_count": 78,
     "metadata": {},
     "output_type": "execute_result"
    },
    {
     "data": {
      "text/plain": [
       "array([[0],\n",
       "       [1],\n",
       "       [0],\n",
       "       ..., \n",
       "       [0],\n",
       "       [0],\n",
       "       [0]], dtype=int64)"
      ]
     },
     "execution_count": 78,
     "metadata": {},
     "output_type": "execute_result"
    }
   ],
   "source": [
    "### Predicting the test data\n",
    "y_pred = classifier.predict(X_test) ## output is the probability\n",
    "#y_pred\n",
    "\n",
    "### Converting the probab into 1 and 0 by setting the threshold\n",
    "y_pred = (y_pred > 0.5)\n",
    "y_pred\n"
   ]
  },
  {
   "cell_type": "code",
   "execution_count": 79,
   "metadata": {},
   "outputs": [
    {
     "data": {
      "text/plain": [
       "array([[1508,   87],\n",
       "       [ 197,  208]], dtype=int64)"
      ]
     },
     "execution_count": 79,
     "metadata": {},
     "output_type": "execute_result"
    }
   ],
   "source": [
    "### Evaluation Metric - confusion Matrix\n",
    "from sklearn.metrics import confusion_matrix\n",
    "cm = confusion_matrix(y_test,y_pred)\n",
    "cm"
   ]
  },
  {
   "cell_type": "code",
   "execution_count": 80,
   "metadata": {},
   "outputs": [
    {
     "data": {
      "text/plain": [
       "0.858"
      ]
     },
     "execution_count": 80,
     "metadata": {},
     "output_type": "execute_result"
    }
   ],
   "source": [
    "Acc = (1508+208)/(1508+87+197+208)\n",
    "Acc"
   ]
  },
  {
   "cell_type": "code",
   "execution_count": null,
   "metadata": {},
   "outputs": [],
   "source": []
  }
 ],
 "metadata": {
  "kernelspec": {
   "display_name": "Python 3",
   "language": "python",
   "name": "python3"
  },
  "language_info": {
   "codemirror_mode": {
    "name": "ipython",
    "version": 3
   },
   "file_extension": ".py",
   "mimetype": "text/x-python",
   "name": "python",
   "nbconvert_exporter": "python",
   "pygments_lexer": "ipython3",
   "version": "3.6.3"
  }
 },
 "nbformat": 4,
 "nbformat_minor": 2
}
